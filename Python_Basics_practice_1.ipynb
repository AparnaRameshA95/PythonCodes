{
  "nbformat": 4,
  "nbformat_minor": 0,
  "metadata": {
    "colab": {
      "provenance": [],
      "authorship_tag": "ABX9TyOKu1NFSYhdfM29/apHmzsj",
      "include_colab_link": true
    },
    "kernelspec": {
      "name": "python3",
      "display_name": "Python 3"
    },
    "language_info": {
      "name": "python"
    }
  },
  "cells": [
    {
      "cell_type": "markdown",
      "metadata": {
        "id": "view-in-github",
        "colab_type": "text"
      },
      "source": [
        "<a href=\"https://colab.research.google.com/github/AparnaRameshA95/PythonCodes/blob/main/Python_Basics_practice_1.ipynb\" target=\"_parent\"><img src=\"https://colab.research.google.com/assets/colab-badge.svg\" alt=\"Open In Colab\"/></a>"
      ]
    },
    {
      "cell_type": "markdown",
      "source": [
        "# **PRACTICE EXERCISES ON PYTHON BASICS -1**"
      ],
      "metadata": {
        "id": "E_aVayBOHZ-W"
      }
    },
    {
      "cell_type": "markdown",
      "source": [
        "1.Write a Python program which accepts the radius of a circle from the user\n",
        "and compute the area.\n",
        "\n",
        "Sample input: Enter the radius: 3\n",
        "\n",
        "Sample output: Area of Circle is 28.59999999999"
      ],
      "metadata": {
        "id": "imVFQCevi4FP"
      }
    },
    {
      "cell_type": "code",
      "execution_count": null,
      "metadata": {
        "colab": {
          "base_uri": "https://localhost:8080/"
        },
        "id": "4xkMZmnoiwD-",
        "outputId": "092a8e7a-95b5-4ea6-815a-4399e6ada3be"
      },
      "outputs": [
        {
          "output_type": "stream",
          "name": "stdout",
          "text": [
            "Enter radius of the circle = 3\n",
            "28.259999999999998\n"
          ]
        }
      ],
      "source": [
        "r = int(input('Enter radius of the circle = '))\n",
        "Area = 3.14*r*r\n",
        "print(Area)"
      ]
    },
    {
      "cell_type": "markdown",
      "source": [
        "2.Write a Python Program to accept the details of a student like name, roll\n",
        "number and mark and display it.\n",
        "\n",
        "Sample input:\n",
        "\n",
        "Enter the name: Anisha\n",
        "\n",
        "Enter the roll number: 21\n",
        "\n",
        "Enter the mark: 78\n",
        "\n",
        "Sample output:\n",
        "\n",
        "Name: Anisha\n",
        "\n",
        "Roll No: 21\n",
        "\n",
        "Mark: 78\n"
      ],
      "metadata": {
        "id": "5IhAEEYWjvLM"
      }
    },
    {
      "cell_type": "code",
      "source": [
        "n = input('Enter the name: ')\n",
        "r = int(input('Enter the roll number: '))\n",
        "m = int(input('Enter the mark: '))\n",
        "print('Name:',n)\n",
        "print('Roll No:',r)\n",
        "print('Mark:',m)"
      ],
      "metadata": {
        "colab": {
          "base_uri": "https://localhost:8080/"
        },
        "id": "ynIL4T8Vjejf",
        "outputId": "71470e61-3a00-4fbc-c173-68f0155e68ce"
      },
      "execution_count": null,
      "outputs": [
        {
          "output_type": "stream",
          "name": "stdout",
          "text": [
            "Enter the name: Anisha\n",
            "Enter the roll number: 21\n",
            "Enter the mark: 78\n",
            "Name: Anisha\n",
            "Roll No: 21\n",
            "Mark: 78\n"
          ]
        }
      ]
    },
    {
      "cell_type": "markdown",
      "source": [
        "3.Write a Python program to get the largest number from a list.\n",
        "\n",
        "Sample input: 12, 3, 47, 10\n",
        "\n",
        "Sample output: 47 is the largest number."
      ],
      "metadata": {
        "id": "Up8xh9LVk_BO"
      }
    },
    {
      "cell_type": "code",
      "source": [
        "numbers = [12, 3, 47, 10]\n",
        "\n",
        "max_num = numbers[0]\n",
        "\n",
        "for i in numbers:\n",
        "    if i > max_num:\n",
        "       max_num = i\n",
        "\n",
        "print(f'{max_num} is the largest number')\n",
        "\n"
      ],
      "metadata": {
        "id": "coVRvqD_F3gB",
        "colab": {
          "base_uri": "https://localhost:8080/"
        },
        "outputId": "f307176d-266f-4800-90a9-23f5e86208a5"
      },
      "execution_count": null,
      "outputs": [
        {
          "output_type": "stream",
          "name": "stdout",
          "text": [
            "47 is the largest number\n"
          ]
        }
      ]
    },
    {
      "cell_type": "markdown",
      "source": [
        "4.Given a range of first 10 numbers, write a Python program to iterate from\n",
        "start number to the end number and print the sum of the current number\n",
        "and previous number.\n",
        "\n",
        "Sample input: 1….10\n",
        "\n",
        "Sample output: Current Number 1 Previous Number 0 Sum: 1 Current Number 2 Previous Number 1 Sum: 3 Current Number 3 Previous Number 2 Sum: 5… Current Number 10 Previous Number 9 Sum: 19"
      ],
      "metadata": {
        "id": "NiSOkBC9OVJ7"
      }
    },
    {
      "cell_type": "code",
      "source": [
        "sum = 0\n",
        "for i in range(1,11):\n",
        "  a = i\n",
        "  b = i - 1\n",
        "  sum = a + b\n",
        "  print(f'Current Number: {a} , Previous Number: {b} , Sum: {sum}')"
      ],
      "metadata": {
        "colab": {
          "base_uri": "https://localhost:8080/"
        },
        "id": "DIbrbj-OzlU-",
        "outputId": "9e30b7e4-471f-4594-9354-38bd1ef47381"
      },
      "execution_count": null,
      "outputs": [
        {
          "output_type": "stream",
          "name": "stdout",
          "text": [
            "Current Number: 1 , Previous Number: 0 , Sum: 1\n",
            "Current Number: 2 , Previous Number: 1 , Sum: 3\n",
            "Current Number: 3 , Previous Number: 2 , Sum: 5\n",
            "Current Number: 4 , Previous Number: 3 , Sum: 7\n",
            "Current Number: 5 , Previous Number: 4 , Sum: 9\n",
            "Current Number: 6 , Previous Number: 5 , Sum: 11\n",
            "Current Number: 7 , Previous Number: 6 , Sum: 13\n",
            "Current Number: 8 , Previous Number: 7 , Sum: 15\n",
            "Current Number: 9 , Previous Number: 8 , Sum: 17\n",
            "Current Number: 10 , Previous Number: 9 , Sum: 19\n"
          ]
        }
      ]
    },
    {
      "cell_type": "markdown",
      "source": [
        "5.Write a Python program to print only those numbers which are divisible\n",
        "of 5.\n",
        "\n",
        "Sample input: 10, 20,33,46,55\n",
        "\n",
        "Sample output: 10, 20, 55"
      ],
      "metadata": {
        "id": "jBziYz64w_J6"
      }
    },
    {
      "cell_type": "code",
      "source": [
        "list1=[10,20,33,46,55]\n",
        "for i in list1:\n",
        "  if i%5==0:\n",
        "    print(i)"
      ],
      "metadata": {
        "colab": {
          "base_uri": "https://localhost:8080/"
        },
        "id": "mz6G7arK1Ba9",
        "outputId": "7cecd213-9421-461a-b22e-ebc6384567fb"
      },
      "execution_count": null,
      "outputs": [
        {
          "output_type": "stream",
          "name": "stdout",
          "text": [
            "10\n",
            "20\n",
            "55\n"
          ]
        }
      ]
    },
    {
      "cell_type": "markdown",
      "source": [
        "6.Write a Python program to check whether a number is prime or not.\n",
        "\n",
        "Sample input: Enter the number: 3\n",
        "\n",
        "Sample output: 3 is a prime number."
      ],
      "metadata": {
        "id": "43GUcxpoxHb7"
      }
    },
    {
      "cell_type": "code",
      "source": [
        "n=int(input('enter a number:  '))\n",
        "if n>1:\n",
        "  for i in range(2,n):\n",
        "    if n%i==0:\n",
        "      print(n,'not a prime number')\n",
        "      break\n",
        "  else:\n",
        "      print(n,'is a prime number')\n",
        "else:\n",
        "  print(n,'is not a prime number')"
      ],
      "metadata": {
        "colab": {
          "base_uri": "https://localhost:8080/"
        },
        "id": "4OHIH2s01kDq",
        "outputId": "ff4d9330-4074-4bcd-d666-9a0e52217902"
      },
      "execution_count": null,
      "outputs": [
        {
          "output_type": "stream",
          "name": "stdout",
          "text": [
            "enter a number:  7\n",
            "7 is a prime number\n"
          ]
        }
      ]
    },
    {
      "cell_type": "markdown",
      "source": [
        "7.Write a Python program to reverse a list using for loop.\n",
        "\n",
        "Sample input: 10,40,30,70\n",
        "\n",
        "Sample output: 70,30,40,10"
      ],
      "metadata": {
        "id": "-YFOCIPixQtm"
      }
    },
    {
      "cell_type": "code",
      "source": [
        "list1 = [10,40,30,70]\n",
        "print('List before reverse : ',list1)\n",
        "reversed_list = []\n",
        "for i in list1:\n",
        "  reversed_list = [i] + reversed_list\n",
        "print(\"List after reverse : \", reversed_list)\n"
      ],
      "metadata": {
        "colab": {
          "base_uri": "https://localhost:8080/"
        },
        "id": "wnsUy5L5-4_d",
        "outputId": "ef5232aa-da6d-4c33-a743-08ac443edaec"
      },
      "execution_count": null,
      "outputs": [
        {
          "output_type": "stream",
          "name": "stdout",
          "text": [
            "List before reverse :  [10, 40, 30, 70]\n",
            "List after reverse :  [70, 30, 40, 10]\n"
          ]
        }
      ]
    },
    {
      "cell_type": "markdown",
      "source": [
        "8.Write a Python program to print the following pattern.\n",
        "\n",
        ".... *\n",
        "     \n",
        ".... **\n",
        "\n",
        ".... ***\n",
        "\n",
        ".... ****"
      ],
      "metadata": {
        "id": "7hlM4AYXx0pt"
      }
    },
    {
      "cell_type": "code",
      "source": [
        "for i in range(4):\n",
        "  for j in range(i+1):\n",
        "    print('*',end='')\n",
        "  print()"
      ],
      "metadata": {
        "colab": {
          "base_uri": "https://localhost:8080/"
        },
        "id": "oOHiW1C0AAXk",
        "outputId": "72d741c0-de59-42e2-9409-59426b072fb0"
      },
      "execution_count": null,
      "outputs": [
        {
          "output_type": "stream",
          "name": "stdout",
          "text": [
            "*\n",
            "**\n",
            "***\n",
            "****\n"
          ]
        }
      ]
    },
    {
      "cell_type": "markdown",
      "source": [
        "9.Write a Python program to find the maximum of three numbers\n",
        "\n",
        "Sample input: 34,12,7\n",
        "\n",
        "Sample output: 34"
      ],
      "metadata": {
        "id": "VQ64k2pbyoOG"
      }
    },
    {
      "cell_type": "code",
      "source": [
        "numbers = [34,12,7]\n",
        "\n",
        "max_num = numbers[0]\n",
        "\n",
        "for i in numbers:\n",
        "    if i > max_num:\n",
        "       max_num = i\n",
        "\n",
        "print(f'{max_num} is the maximum of three numbers')"
      ],
      "metadata": {
        "colab": {
          "base_uri": "https://localhost:8080/"
        },
        "id": "bpgJyDTH_vXh",
        "outputId": "2179455e-9863-4cd7-c6e2-f83a8996cafc"
      },
      "execution_count": null,
      "outputs": [
        {
          "output_type": "stream",
          "name": "stdout",
          "text": [
            "34 is the maximum of three numbers\n"
          ]
        }
      ]
    },
    {
      "cell_type": "markdown",
      "source": [
        "10.Write a Python program to construct the following pattern, using a\n",
        "nested for loop.\n",
        "\n",
        ".... *\n",
        "\n",
        ".... **\n",
        "\n",
        ".... ***\n",
        "\n",
        ".... ****\n",
        "\n",
        ".... *****\n",
        "\n",
        ".... ****\n",
        "\n",
        ".... ***\n",
        "\n",
        ".... **\n",
        "\n",
        ".... *"
      ],
      "metadata": {
        "id": "4GVyvDtTyv3j"
      }
    },
    {
      "cell_type": "code",
      "source": [
        "n = 5\n",
        "\n",
        "for i in range(n):\n",
        "\n",
        "  for j in range(i):\n",
        "    print('* ', end=\"\")\n",
        "\n",
        "  print('')\n",
        "\n",
        "\n",
        "for i in range(n, 0, -1):\n",
        "\n",
        "  for j in range(i):\n",
        "    print('* ', end=\"\")\n",
        "\n",
        "  print('')"
      ],
      "metadata": {
        "colab": {
          "base_uri": "https://localhost:8080/"
        },
        "id": "Q5RE33627Who",
        "outputId": "89482f44-85a9-420b-82a3-533058557ec8"
      },
      "execution_count": 2,
      "outputs": [
        {
          "output_type": "stream",
          "name": "stdout",
          "text": [
            "\n",
            "* \n",
            "* * \n",
            "* * * \n",
            "* * * * \n",
            "* * * * * \n",
            "* * * * \n",
            "* * * \n",
            "* * \n",
            "* \n"
          ]
        }
      ]
    },
    {
      "cell_type": "code",
      "source": [],
      "metadata": {
        "id": "sDiRzsm27bMj"
      },
      "execution_count": null,
      "outputs": []
    }
  ]
}