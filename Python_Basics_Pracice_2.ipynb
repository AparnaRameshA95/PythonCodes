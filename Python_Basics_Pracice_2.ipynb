{
  "nbformat": 4,
  "nbformat_minor": 0,
  "metadata": {
    "colab": {
      "provenance": [],
      "authorship_tag": "ABX9TyOLEsFjPLlpHWuhZ8IV3qWy",
      "include_colab_link": true
    },
    "kernelspec": {
      "name": "python3",
      "display_name": "Python 3"
    },
    "language_info": {
      "name": "python"
    }
  },
  "cells": [
    {
      "cell_type": "markdown",
      "metadata": {
        "id": "view-in-github",
        "colab_type": "text"
      },
      "source": [
        "<a href=\"https://colab.research.google.com/github/AparnaRameshA95/PythonCodes/blob/main/Python_Basics_Pracice_2.ipynb\" target=\"_parent\"><img src=\"https://colab.research.google.com/assets/colab-badge.svg\" alt=\"Open In Colab\"/></a>"
      ]
    },
    {
      "cell_type": "markdown",
      "source": [
        "1.Write a Python program to accept a string value from the user and display the count of each character in that string.\n",
        "\n",
        "Sample input: Enter a string value: assembly\n",
        "\n",
        "Sample output: a=1, s=2, e=1, m=1, b=1, l=1, y=1"
      ],
      "metadata": {
        "id": "a3VTtSdF5k-v"
      }
    },
    {
      "cell_type": "code",
      "source": [
        "Str1='assembly'\n",
        "List1=[]\n",
        "for i in Str1:\n",
        "    List1.append(i)\n",
        "\n",
        "for letter in List1:\n",
        "  count=0\n",
        "  for i in List1:\n",
        "    if i==letter:\n",
        "      count+=1\n",
        "    else:\n",
        "      continue\n",
        "  print(letter,'-',count,end=' ')"
      ],
      "metadata": {
        "colab": {
          "base_uri": "https://localhost:8080/"
        },
        "id": "1p6CMdx7IexX",
        "outputId": "1cdc8276-cfd4-4124-8982-8574afbcf2b3"
      },
      "execution_count": 27,
      "outputs": [
        {
          "output_type": "stream",
          "name": "stdout",
          "text": [
            "a - 1 s - 2 s - 2 e - 1 m - 1 b - 1 l - 1 y - 1 "
          ]
        }
      ]
    },
    {
      "cell_type": "markdown",
      "source": [
        "2.Write a Python function to find the maximum of three numbers\n",
        "\n",
        "Sample input: 34,12,7\n",
        "\n",
        "Sample output: 34"
      ],
      "metadata": {
        "id": "vARzNFFb5tx_"
      }
    },
    {
      "cell_type": "code",
      "source": [
        "numbers = [34,12,7]\n",
        "\n",
        "max_num = numbers[0]\n",
        "\n",
        "for i in numbers:\n",
        "    if i > max_num:\n",
        "       max_num = i\n",
        "\n",
        "print(f'{max_num} is the maximum of three numbers')"
      ],
      "metadata": {
        "colab": {
          "base_uri": "https://localhost:8080/"
        },
        "id": "fmcE1-T05qcY",
        "outputId": "0dbb62fe-cee3-42e2-8f05-25f1178be0e7"
      },
      "execution_count": 28,
      "outputs": [
        {
          "output_type": "stream",
          "name": "stdout",
          "text": [
            "34 is the maximum of three numbers\n"
          ]
        }
      ]
    },
    {
      "cell_type": "markdown",
      "source": [
        "3.Write a Python function called exponent(base,exp) that returns an integer value of base raises to the power of exp.\n",
        "\n",
        "Sample input: Enter the base: 2 , Enter the exponent: 3\n",
        "\n",
        "Sample output: 8"
      ],
      "metadata": {
        "id": "rqgvvsOU5vQO"
      }
    },
    {
      "cell_type": "code",
      "source": [
        "base = int(input('Enter the base: '))\n",
        "exp = int(input('Enter the exponent: '))\n",
        "\n",
        "def exponent(base,exp):\n",
        "  if exp==0:\n",
        "    return 1\n",
        "  elif exp>0:\n",
        "    return base**exp\n",
        "  else:\n",
        "    return 1/base**(-exp)\n",
        "\n",
        "result = exponent(base,exp)\n",
        "\n",
        "print(result)\n",
        "\n",
        "\n"
      ],
      "metadata": {
        "colab": {
          "base_uri": "https://localhost:8080/"
        },
        "id": "GYfJu5ii5ynN",
        "outputId": "04e8bd51-82a4-4f35-f444-33e330c088ff"
      },
      "execution_count": 35,
      "outputs": [
        {
          "output_type": "stream",
          "name": "stdout",
          "text": [
            "Enter the base: 2\n",
            "Enter the exponent: 3\n",
            "8\n"
          ]
        }
      ]
    },
    {
      "cell_type": "markdown",
      "source": [
        "4.Write a Python function that takes a positive integer and returns the sum of the cube of all the positive integers smaller than the specified number.\n",
        "\n",
        "Sample input: 4\n",
        "\n",
        "Sample output: 36."
      ],
      "metadata": {
        "id": "03Pv7XCN5zBt"
      }
    },
    {
      "cell_type": "code",
      "source": [
        "n = int(input('Enter a positive integer : '))\n",
        "def sum_of_cubes(n):\n",
        "    if n <= 0:\n",
        "        return \"Input must be a positive integer\"\n",
        "\n",
        "    sum_cubes = 0\n",
        "    for i in range(1, n):\n",
        "        sum_cubes += i ** 3\n",
        "\n",
        "    return sum_cubes\n",
        "\n",
        "\n",
        "print(sum_of_cubes(n))"
      ],
      "metadata": {
        "colab": {
          "base_uri": "https://localhost:8080/"
        },
        "id": "34Dv6qto5104",
        "outputId": "26eb91cf-3853-4b78-91b7-6ae02955e18c"
      },
      "execution_count": 2,
      "outputs": [
        {
          "output_type": "stream",
          "name": "stdout",
          "text": [
            "Enter a positive integer : 4\n",
            "36\n"
          ]
        }
      ]
    },
    {
      "cell_type": "markdown",
      "source": [
        "5.Write a Python program which iterates from 1 to 10. For multiples of 2, print “Fizz” instead of the number and for the multiples of 5, print “Buzz”. For numbers which are multiples of both 2 and 5, print “FizzBuzz”.\n",
        "\n",
        "Sample input: numbers from 1 to 10\n",
        "\n",
        "Sample output: 1 Fizz 3 Fizz Buzz Fizz 7 Fizz 9 FizzBuzz"
      ],
      "metadata": {
        "id": "skwr7-yd5_Rf"
      }
    },
    {
      "cell_type": "code",
      "source": [
        "for i in range(1,11):\n",
        "  if i%2==0 and i%5==0:\n",
        "    print('FizzBuzz')\n",
        "  elif i%2==0:\n",
        "    print('Fizz',end=' ')\n",
        "  elif i%5==0:\n",
        "    print('Buzz',end=' ')\n",
        "  else:\n",
        "    print(i,end=' ')"
      ],
      "metadata": {
        "colab": {
          "base_uri": "https://localhost:8080/"
        },
        "id": "YO6IUy1Z56Q2",
        "outputId": "d180bd9d-293b-4ee4-e639-392c017e6006"
      },
      "execution_count": 3,
      "outputs": [
        {
          "output_type": "stream",
          "name": "stdout",
          "text": [
            "1 Fizz 3 Fizz Buzz Fizz 7 Fizz 9 FizzBuzz\n"
          ]
        }
      ]
    },
    {
      "cell_type": "markdown",
      "source": [
        "6.Write a Python program to find the most frequent item in a list of numbers.\n",
        "\n",
        "Sample input: 2, 3, 4, 2, 5, 2\n",
        "\n",
        "Sample output: 2"
      ],
      "metadata": {
        "id": "UsbuxOnD6EkD"
      }
    },
    {
      "cell_type": "code",
      "source": [
        "List1=[2,3,4,2,5,2]\n",
        "for num in List1:\n",
        "  count=0\n",
        "  max_count=0\n",
        "  for i in List1:\n",
        "    if i==num:\n",
        "      count+=1\n",
        "\n",
        "  if count>max_count:\n",
        "    frequent_number=num\n",
        "    max_count=count\n",
        "print(\"The most frequent item is:\", frequent_number)"
      ],
      "metadata": {
        "colab": {
          "base_uri": "https://localhost:8080/"
        },
        "id": "fBHD--NT6DVJ",
        "outputId": "d70e6385-d466-4d16-873c-8d0e848c9f6f"
      },
      "execution_count": 4,
      "outputs": [
        {
          "output_type": "stream",
          "name": "stdout",
          "text": [
            "The most frequent item is: 2\n"
          ]
        }
      ]
    },
    {
      "cell_type": "markdown",
      "source": [
        "7.Write a Python program to find the sum of squares of the numbers in a list.\n",
        "\n",
        "Sample input: 2,1,3,1\n",
        "\n",
        "Sample output: 15\n",
        "\n"
      ],
      "metadata": {
        "id": "cxr43-7B6Opq"
      }
    },
    {
      "cell_type": "code",
      "source": [
        "list1=[2,1,3,1]\n",
        "sum=0\n",
        "for i in list1:\n",
        "  square = i*i\n",
        "  sum += square\n",
        "\n",
        "print('The sum of squares of the numbers in a list is  ',sum)"
      ],
      "metadata": {
        "colab": {
          "base_uri": "https://localhost:8080/"
        },
        "id": "ZAIOvXSq6K-i",
        "outputId": "00724fb9-5fe4-4f5b-c7ee-491e0d40ee18"
      },
      "execution_count": 5,
      "outputs": [
        {
          "output_type": "stream",
          "name": "stdout",
          "text": [
            "The sum of squares of the numbers in a list is   15\n"
          ]
        }
      ]
    },
    {
      "cell_type": "markdown",
      "source": [
        "8.Write a Python program using for loop that will iterate from 1 to 15. For each iteration, check if the current number is odd or even, and display the message to the screen as odd or even.\n",
        "\n",
        "Sample input: 1….15\n",
        "\n",
        "Sample output: 1-odd 2-even …. 15-odd\n",
        "\n"
      ],
      "metadata": {
        "id": "aQEg0zjZ6WcE"
      }
    },
    {
      "cell_type": "code",
      "source": [
        "for i in range(1,16):\n",
        "  if i%2==0:\n",
        "    print(i,'-even',end=' ')\n",
        "  else:\n",
        "    print(i,'-odd',end=' ')"
      ],
      "metadata": {
        "colab": {
          "base_uri": "https://localhost:8080/"
        },
        "id": "NxNgWLvY6SFB",
        "outputId": "1885b2fd-0966-4b4a-8387-6f520da6f754"
      },
      "execution_count": 6,
      "outputs": [
        {
          "output_type": "stream",
          "name": "stdout",
          "text": [
            "1 -odd 2 -even 3 -odd 4 -even 5 -odd 6 -even 7 -odd 8 -even 9 -odd 10 -even 11 -odd 12 -even 13 -odd 14 -even 15 -odd "
          ]
        }
      ]
    },
    {
      "cell_type": "markdown",
      "source": [
        "9.Write a Python program to convert temperatures to and from Celsius Fahrenheit. [Formula: c/5=f-32/9 where c=temperature in Celsius and f= temperature in Fahrenheit.]\n",
        "\n",
        "Sample input: Temperature in Fahrenheit =41\n",
        "\n",
        "Sample output: Temperature in Celsius =5"
      ],
      "metadata": {
        "id": "JasQIXAC6fqJ"
      }
    },
    {
      "cell_type": "code",
      "source": [
        "F = int(input('Enter Temperature in Fahranheit = '))\n",
        "C = (F-32)*5/9\n",
        "print('Temperature in Celsius = ',C)"
      ],
      "metadata": {
        "colab": {
          "base_uri": "https://localhost:8080/"
        },
        "id": "8ToZAK-X6bNc",
        "outputId": "56f1f992-3064-4a59-ff7d-b9aa748e87b6"
      },
      "execution_count": 7,
      "outputs": [
        {
          "output_type": "stream",
          "name": "stdout",
          "text": [
            "Enter Temperature in Fahranheit = 41\n",
            "Temperature in Celsius =  5.0\n"
          ]
        }
      ]
    },
    {
      "cell_type": "markdown",
      "source": [
        "10.Write a Python function to calculate the factorial of a number (a nonnegative integer). The function accepts the number as an argument.\n",
        "\n",
        "Sample input: 3\n",
        "\n",
        "Sample output: 6"
      ],
      "metadata": {
        "id": "UBAJkwgg6oxZ"
      }
    },
    {
      "cell_type": "code",
      "source": [
        "n = int(input('Enter n = '))\n",
        "\n",
        "def factorial(n):\n",
        "  if n ==0 or n ==1:\n",
        "    return 1\n",
        "  else:\n",
        "    fact = 1\n",
        "    for i in range(1,n+1):\n",
        "      fact *= i\n",
        "    return fact\n",
        "\n",
        "print('Factorial of', n , 'is' , factorial(n))"
      ],
      "metadata": {
        "colab": {
          "base_uri": "https://localhost:8080/"
        },
        "id": "ua8obFcF6kRE",
        "outputId": "83f66dc9-0445-4f14-8e9e-b4429eefc1c2"
      },
      "execution_count": 8,
      "outputs": [
        {
          "output_type": "stream",
          "name": "stdout",
          "text": [
            "Enter n = 3\n",
            "Factorial of 3 is 6\n"
          ]
        }
      ]
    }
  ]
}